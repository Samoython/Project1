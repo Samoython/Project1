{
 "cells": [
  {
   "cell_type": "markdown",
   "id": "67d7ccc7-560f-43c5-8546-f68e52af75aa",
   "metadata": {},
   "source": [
    "# Data Science Tools and Ecosystem\n"
   ]
  },
  {
   "cell_type": "markdown",
   "id": "6f08f7e8-ea0e-4e87-8ba6-c0e3591b1020",
   "metadata": {
    "tags": []
   },
   "source": [
    "In this notebook, Data Science Tools and Ecosystem are summarized"
   ]
  },
  {
   "cell_type": "markdown",
   "id": "7900fd84-12d5-4817-9958-26a12524ae94",
   "metadata": {},
   "source": [
    "Some of the popular languages that Data Scientists use are:\n",
    "\n",
    "1-Python\n",
    "2-R language\n",
    "3-SQL"
   ]
  },
  {
   "cell_type": "markdown",
   "id": "547e5ca6-5439-4e8d-abb2-1433edcb7778",
   "metadata": {},
   "source": [
    "Some of the commonly used librairies used by data Scientists include:\n",
    "1-Pandas\n",
    "2-NumPy\n",
    "3-Matplotlib"
   ]
  },
  {
   "cell_type": "markdown",
   "id": "e3cc18af-50c7-4204-a78c-e83e88aea585",
   "metadata": {},
   "source": [
    "|Data Science Tools|\n",
    "|----|\n",
    "|SAS|\n",
    "|Jupyter|\n",
    "|Matplotlib|"
   ]
  },
  {
   "cell_type": "markdown",
   "id": "be71174f-f2a3-45de-be14-7b9788f855c5",
   "metadata": {},
   "source": [
    "### Below are a few examples of evaluating arithmetic expressions in Python ."
   ]
  },
  {
   "cell_type": "code",
   "execution_count": 5,
   "id": "12a8e57f-99b9-4d12-8b53-0bb7a6491e81",
   "metadata": {
    "tags": []
   },
   "outputs": [
    {
     "name": "stdout",
     "output_type": "stream",
     "text": [
      "17\n"
     ]
    }
   ],
   "source": [
    "#This a simple arithmetic expression to mutiply then add integers\n",
    "a=3\n",
    "b=4 \n",
    "c=5 \n",
    "d=(a*b)+c\n",
    "\n",
    "print(d)"
   ]
  },
  {
   "cell_type": "code",
   "execution_count": 4,
   "id": "a28cde44-4b38-4590-80d7-e63bbcae77de",
   "metadata": {
    "tags": []
   },
   "outputs": [
    {
     "data": {
      "text/plain": [
       "3.3333333333333335"
      ]
     },
     "execution_count": 4,
     "metadata": {},
     "output_type": "execute_result"
    }
   ],
   "source": [
    "#This will convert 200 minutes to hours by diving by 60.\n",
    "\n",
    "200/60\n"
   ]
  },
  {
   "cell_type": "markdown",
   "id": "cf8947f3-4e49-4655-8997-0d9014d5b452",
   "metadata": {},
   "source": [
    "# Objectives\n",
    "In this course we able to know some popular languages for Data Science like :\n",
    "*Python\n",
    "*R Language \n",
    "*SQL"
   ]
  },
  {
   "cell_type": "markdown",
   "id": "c49895b4-a54c-40f8-8703-8795010e06e1",
   "metadata": {},
   "source": [
    "## Author : \n",
    "   Issam Shaibat"
   ]
  }
 ],
 "metadata": {
  "kernelspec": {
   "display_name": "Python",
   "language": "python",
   "name": "conda-env-python-py"
  },
  "language_info": {
   "codemirror_mode": {
    "name": "ipython",
    "version": 3
   },
   "file_extension": ".py",
   "mimetype": "text/x-python",
   "name": "python",
   "nbconvert_exporter": "python",
   "pygments_lexer": "ipython3",
   "version": "3.7.12"
  }
 },
 "nbformat": 4,
 "nbformat_minor": 5
}
